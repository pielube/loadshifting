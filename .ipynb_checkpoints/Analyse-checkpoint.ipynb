{
 "cells": [
  {
   "cell_type": "code",
<<<<<<< Updated upstream
   "execution_count": 47,
=======
   "execution_count": 57,
>>>>>>> Stashed changes
   "id": "7fba9ad1-732d-4502-b8ec-6f5ee0d122fe",
   "metadata": {},
   "outputs": [
    {
     "name": "stdout",
     "output_type": "stream",
     "text": [
      "No Warning Shown\n"
     ]
    }
   ],
   "source": [
    "import warnings\n",
    "warnings.filterwarnings('ignore')\n",
    "warnings.warn('DelftStack')\n",
    "warnings.warn('Do not show this message')\n",
    "print(\"No Warning Shown\")"
   ]
  },
  {
   "cell_type": "markdown",
   "id": "55e2960c-d83b-42ac-942d-40062c217802",
   "metadata": {},
   "source": [
    "### Simulation stochastique"
   ]
  },
  {
<<<<<<< Updated upstream
   "cell_type": "code",
   "execution_count": 48,
=======
   "cell_type": "raw",
   "id": "6fbad3a8-a954-4826-beb7-d9db9d263f47",
   "metadata": {},
   "source": [
    "On importe les simulations souhaitées"
   ]
  },
  {
   "cell_type": "code",
   "execution_count": 58,
>>>>>>> Stashed changes
   "id": "10fa8700-22c4-42e8-ac87-a10033254235",
   "metadata": {},
   "outputs": [],
   "source": [
    "import json\n",
    "import matplotlib.pyplot as plt\n",
<<<<<<< Updated upstream
=======
    "plt.rcParams['figure.figsize'] = [15, 7]\n",
>>>>>>> Stashed changes
    "import os\n",
    "import numpy as np \n",
    "\n",
    "path = '\\inputs'\n",
    "name = 'app_cons_members_correction'\n",
    "file= name + '.json'\n",
<<<<<<< Updated upstream
    "with open(file) as f:\n",
    "    app_cons_corr = json.load(f)"
=======
    "with open('inputs/app_cons_members_correction.json') as f:\n",
    "    app_cons_corr = json.load(f)\n",
    "    \n",
    "with open('inputs/corr_factor_global.json') as json_file :\n",
    "    correction = json.load(json_file)"
   ]
  },
  {
   "cell_type": "raw",
   "id": "e2487435-9b06-42e0-921e-f0e2eabf5de5",
   "metadata": {},
   "source": [
    "corr = True si on veut voir les coefficients de correction"
>>>>>>> Stashed changes
   ]
  },
  {
   "cell_type": "code",
<<<<<<< Updated upstream
   "execution_count": 49,
   "id": "b3efce0e-0272-4b4f-a08f-ec7bfff6f2bc",
   "metadata": {},
   "outputs": [],
   "source": [
    "corr = False\n",
=======
   "execution_count": 59,
   "id": "b3efce0e-0272-4b4f-a08f-ec7bfff6f2bc",
   "metadata": {},
   "outputs": [
    {
     "name": "stdout",
     "output_type": "stream",
     "text": [
      "{'DishWasher': 1.4998901535920708, 'WashingMachine': 1.036312160746187, 'DomesticHotWater': 1.129378123520044, 'HeatPumpPower': 0.9679740199956022, 'StaticLoad': 1.205756812752079, 'TumbleDryer': 1.3432615983756948}\n"
     ]
    }
   ],
   "source": [
    "corr = True\n",
>>>>>>> Stashed changes
    "H4f = 0.301\n",
    "H2f =  0.488\n",
    "H1f = 0.211\n",
    "if corr == True :\n",
    "        factor_mean = {}\n",
    "        average_coeff = {'case1' : H4f, 'case59' : H2f, 'case77' : H1f}\n",
    "        for case in correction :\n",
    "            for appli in correction[case] :\n",
    "                \n",
    "                if appli in factor_mean.keys() :\n",
    "                    \n",
    "                    factor_mean[appli].append (average_coeff[case]*correction[case][appli])\n",
    "                else :\n",
    "                   \n",
    "                    factor_mean[appli] = [average_coeff[case]*correction[case][appli]]\n",
    "        for appli in factor_mean :\n",
    "            factor_mean[appli] = sum(factor_mean[appli])\n",
<<<<<<< Updated upstream
    "#print(factor_mean)"
=======
    "        print(factor_mean)"
   ]
  },
  {
   "cell_type": "raw",
   "id": "426a2579-47ed-4a09-a694-73bc5708577a",
   "metadata": {},
   "source": [
    "factor = True pour appliquer le facteur de correction"
>>>>>>> Stashed changes
   ]
  },
  {
   "cell_type": "code",
<<<<<<< Updated upstream
   "execution_count": 50,
=======
   "execution_count": 60,
>>>>>>> Stashed changes
   "id": "cc58742f-944b-4640-aefc-46cdd99d56cc",
   "metadata": {},
   "outputs": [],
   "source": [
<<<<<<< Updated upstream
    "factor = False \n",
    "if factor == True :\n",
    "        for case in app_cons :\n",
    "            for simulation in app_cons[case] : \n",
    "                if simulation != 'factor gain':\n",
    "                    sim = app_cons[case][simulation] \n",
    "                \n",
    "                    for appli in factor_mean :\n",
    "                        sim['Annual consumption by '+appli] = sim['Annual consumption by '+appli]/factor_mean[appli]"
=======
    "factor = False\n",
    "if factor == True :\n",
    "        for case in app_cons_corr :\n",
    "            if case not in ['simulation {}'.format(k) for k in range (100)] :\n",
    "                for simulation in app_cons_corr[case] : \n",
    "                    if simulation != 'factor gain' and simulation != 'members':\n",
    "                        sim = app_cons_corr[case][simulation]\n",
    "                        for appli in list(factor_mean.keys()) :\n",
    "\n",
    "                            sim['Annual consumption by '+appli] = sim['Annual consumption by '+appli]/factor_mean[appli]"
>>>>>>> Stashed changes
   ]
  },
  {
   "cell_type": "raw",
   "id": "b1ae3c48-b874-4f1f-b482-e0030ae5d9bc",
   "metadata": {},
   "source": [
    "Récupération des résultats"
   ]
  },
  {
   "cell_type": "code",
<<<<<<< Updated upstream
   "execution_count": 51,
=======
   "execution_count": 61,
>>>>>>> Stashed changes
   "id": "fe148383-02bc-4038-82a7-f6de9528d6be",
   "metadata": {},
   "outputs": [],
   "source": [
    "results = {}\n",
    "for case in app_cons_corr:\n",
    "    average={}\n",
    "    home = app_cons_corr[case]\n",
    "    factor_t ={}\n",
    "    for simulation in home :\n",
    "        if simulation != 'factor gain' and  simulation!= 'members':\n",
    "            for appli in home[simulation] :\n",
    "                \n",
    "                if appli in average.keys() :\n",
    "                    average[appli].append(home[simulation][appli])\n",
    "                else :\n",
    "                    average[appli] = [home[simulation][appli]]\n",
    "        elif simulation == 'factor gain' :\n",
    "            factor = home[simulation]\n",
    "            \n",
    "            \n",
    "            for si in factor :\n",
    "                for appli in factor[si] : \n",
    "                    if appli in factor_t.keys() :\n",
<<<<<<< Updated upstream
    "                        \n",
    "                        factor_t[appli].append(factor[si][appli]['factor'])\n",
    "                    else :\n",
    "                        factor_t[appli]=[factor[si][appli]['factor']]\n",
=======
    "                        if isinstance (factor[si][appli]['factor'], float) :\n",
    "                            factor_t[appli].append(factor[si][appli]['factor'])\n",
    "                    else :\n",
    "                        if isinstance (factor[si][appli]['factor'], float) :\n",
    "                            factor_t[appli]=[factor[si][appli]['factor']]\n",
>>>>>>> Stashed changes
    "                        \n",
    "    average['factor'] = factor_t\n",
    "    results[case] = average"
   ]
  },
  {
<<<<<<< Updated upstream
   "cell_type": "raw",
   "id": "42073a49-77e0-4e53-936b-51016f0bca82",
   "metadata": {},
   "source": [
    "Résultat par appareil"
=======
   "cell_type": "markdown",
   "id": "0a4a299b-8a2d-4b2e-89ff-99701dfa6d6c",
   "metadata": {},
   "source": [
    "### Résultat par appareil"
>>>>>>> Stashed changes
   ]
  },
  {
   "cell_type": "code",
<<<<<<< Updated upstream
   "execution_count": 52,
=======
   "execution_count": 62,
>>>>>>> Stashed changes
   "id": "f4b329cc-e839-4b9f-8099-3eeb7e5ffaaa",
   "metadata": {},
   "outputs": [],
   "source": [
<<<<<<< Updated upstream
    "from sanstitre0 import somme_liste_3 \n",
    "from sanstitre0 import somme_liste_4 \n",
=======
    "from somme_liste import somme_liste_3 \n",
    "from somme_liste import somme_liste_4 \n",
>>>>>>> Stashed changes
    "\n",
    "DishWasher = []\n",
    "TumbleDryer = []\n",
    "WashingMachine = []\n",
    "StaticLoad = []\n",
    "HP = []\n",
    "DHW = []\n",
    "\n",
    "DHW_fact=[]\n",
    "HP_fact=[]\n",
    "StaticLoad_fact=[]\n",
    "\n",
    "for case in results : \n",
    "    DishWasher.append(results[case]['Annual consumption by DishWasher'])\n",
    "    TumbleDryer.append(results[case]['Annual consumption by TumbleDryer'])\n",
    "    WashingMachine.append(results[case]['Annual consumption by WashingMachine'])\n",
    "    StaticLoad.append(results[case]['Annual consumption by StaticLoad'])\n",
    "    DHW.append(results[case]['Annual consumption by DomesticHotWater'])\n",
    "    HP.append(results[case]['Annual consumption by HeatPumpPower'])\n",
    "    for key in results[case].keys() :\n",
    "        if key == 'factor' :\n",
    "            DHW_fact.append(results[case]['factor']['DomesticHotWater'])\n",
    "            HP_fact.append(results[case]['factor']['HeatPumpPower'])\n",
    "            StaticLoad_fact.append(results[case]['factor']['StaticLoad'])\n",
    "\n",
    "DHW_fact = somme_liste_3( H4f*np.array(DHW_fact[0]),  H2f*np.array(DHW_fact[1]),  H1f*np.array(DHW_fact[2]))  \n",
    "HP_fact = somme_liste_3( H4f*np.array(HP_fact[0]),  H2f*np.array(HP_fact[1]),  H1f*np.array(HP_fact[2]))\n",
    "StaticLoad_fact = somme_liste_3( H4f*np.array(StaticLoad_fact[0]),  H2f*np.array(StaticLoad_fact[1]),  H1f*np.array(StaticLoad_fact[2]))\n",
    "TotalConsumption = somme_liste_4(DishWasher,TumbleDryer,WashingMachine,StaticLoad)    "
   ]
  },
  {
<<<<<<< Updated upstream
   "cell_type": "raw",
   "id": "1a1350e7-8a65-4914-be2b-fbee9ec483ed",
   "metadata": {},
   "source": [
    "Moyenne par consommation"
=======
   "cell_type": "markdown",
   "id": "5cd33e99-e0ba-47c4-8393-83d9c7cbfd23",
   "metadata": {},
   "source": [
    "### Moyenne par consommation"
>>>>>>> Stashed changes
   ]
  },
  {
   "cell_type": "code",
<<<<<<< Updated upstream
   "execution_count": 53,
=======
   "execution_count": 63,
>>>>>>> Stashed changes
   "id": "2467963b-7c71-4328-8825-b20bd4b9a743",
   "metadata": {},
   "outputs": [
    {
     "name": "stdout",
     "output_type": "stream",
     "text": [
<<<<<<< Updated upstream
      "For app_cons_members_correction the means for DishWasher, TumbleDryer, WashingMachine and all combined are :291.7890901704084,343.6421352166667,202.06558449782634,3823.8024418159052\n"
=======
      "For app_cons_members_correction the means for DishWasher, TumbleDryer, WashingMachine and all combined are :283.3302686151655,320.33923620050507,196.16568338672616,3812.041434959524\n"
>>>>>>> Stashed changes
     ]
    }
   ],
   "source": [
    "DishWasher_moy = somme_liste_3( H4f*np.array(DishWasher[0]),  H2f*np.array(DishWasher[1]),  H1f*np.array(DishWasher[2]))\n",
    "DishWasher_moy = np.mean(DishWasher_moy)\n",
    "\n",
    "Tumbledryer_moy = somme_liste_3( H4f*np.array(TumbleDryer[0]),  H2f*np.array(TumbleDryer[1]),  H1f*np.array(TumbleDryer[2]))\n",
    "Tumbledryer_moy = np.mean(Tumbledryer_moy)\n",
    "\n",
    "WashingMachine_moy =  somme_liste_3( H4f*np.array(WashingMachine[0]),  H2f*np.array(WashingMachine[1]),  H1f*np.array(WashingMachine[2]))\n",
    "WashingMachine_moy = np.mean(WashingMachine_moy)\n",
    "\n",
    "TotalConsumption_moy = somme_liste_3( H4f*np.array(TotalConsumption[0]),  H2f*np.array(TotalConsumption[1]),  H1f*np.array(TotalConsumption[2]))\n",
    "TotalConsumption_moy = np.mean(TotalConsumption_moy)\n",
    "\n",
    "print('For ' + name + ' the means for DishWasher, TumbleDryer, WashingMachine and all combined are :'  +str(DishWasher_moy )+',' + str( Tumbledryer_moy )+ ',' + str( WashingMachine_moy )+ ',' +str( TotalConsumption_moy ))"
   ]
  },
  {
<<<<<<< Updated upstream
   "cell_type": "raw",
   "id": "ac4bc1c4-5442-4dcd-b520-a9f27df9f9f5",
   "metadata": {},
   "source": [
    "Affichage des consommations par simulation"
=======
   "cell_type": "markdown",
   "id": "aaf61a96-014f-49b3-a178-201d2ae02381",
   "metadata": {},
   "source": [
    "### Affichage des consommations par simulation"
>>>>>>> Stashed changes
   ]
  },
  {
   "cell_type": "code",
<<<<<<< Updated upstream
   "execution_count": 57,
=======
   "execution_count": 64,
>>>>>>> Stashed changes
   "id": "6858f082-9805-4cdf-9039-d4a9a07ec3be",
   "metadata": {},
   "outputs": [
    {
     "name": "stderr",
     "output_type": "stream",
     "text": [
      "No artists with labels found to put in legend.  Note that artists whose label start with an underscore are ignored when legend() is called with no argument.\n"
     ]
    },
    {
     "data": {
<<<<<<< Updated upstream
      "image/png": "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\n",
      "text/plain": [
       "<Figure size 432x288 with 3 Axes>"
=======
      "image/png": "iVBORw0KGgoAAAANSUhEUgAAA3sAAAG5CAYAAAA3ci11AAAAOXRFWHRTb2Z0d2FyZQBNYXRwbG90bGliIHZlcnNpb24zLjUuMCwgaHR0cHM6Ly9tYXRwbG90bGliLm9yZy8/fFQqAAAACXBIWXMAAAsTAAALEwEAmpwYAAA47UlEQVR4nO3dfbxldV33/9dbEFQEPBMzyJ1AhjbcKOmR8iYVNCVDwd9PbLjS0CgKjLLsBuXqcqzosjK17PIqypupDK65QhPRVBrwBlFxMBQZJFAUJkYYmVFQEQE/1x97nWHP4dzsObPXOfus83o+Hvux9/7udfPZa/b5zPqs9V3flapCkiRJktQtD1noACRJkiRJw2exJ0mSJEkdZLEnSZIkSR1ksSdJkiRJHWSxJ0mSJEkdZLEnSZIkSR1ksac5S/I3Sf5ggOm+luS58xHTIJK8IsnlCx2HpNGRpJL82DSfmTMkDc1M+0VJfjrJ9fMd0zAkWZ3kn2b4/Nokz56/iAQWe5pGk4juTnJXkm8luSLJryXZ9pupql+rqj8a4jp3TfKdJMf0tf1CsxM2ue3Lw1qvpNHV5ISJxw+bvDTx/hcWOr7Jkrw7yQ+a3HlXki8l+Z9J9l7o2CTNLMlrk3xoUtsN07StaiOGqvpkVT2+jWUn+VizT/XESe3/2rQ/u431TqiqI6rqY22uQw9msaeZvLCq9gQOBt4I/D7wjrZWVlX3AZ8GntXX/Ezgy1O0faKtOHZEkl0XOgapy6rqkRMP4GZ6eWmi7T0LHd80/qzJncuBVwI/BXwqyR5TTTzMPGJOknbKJ4CnJ9kFIMmjgYcCT5rU9mOMyH7IHPwn8IsTb5L8CL0ctXnBIlKrLPY0q6r6dlVdBPw8cGqSI2HbEew/bl7vk+Ti5izgliSf7D8LCByd5ItJvp3k/yR52DSr+wS9Ym7CTwN/OkXbJ5KMNevcnGRr8/rAiYmarldfbY6u3zT5LECSNzXz3ZTkZ/va907yjiSbkvxXkj/uS/KvSPKpJG9JsgVYvWNbU9IwTO4ulOSQ5sj0rs37jzV/u1c0ZwE/kORHkrwnyZ1JPpfkkEmLfUGTM76Z5M8n5bD+df94kkuaXHd9kpdONV1Vfb+qPge8CPgReoXfVHnkj5plHdW3jhXNWczlzfsTklzd19PiCX3Tfi3J7yf5IvBdCz5pzj5Hr7g7unn/TOAy4PpJbV+pqluTvDLJdc1+xleT/OrEgua6X5Tk2Uk29i3na0l+Z7p9qCS/1+yv3JrklzNDl/TGe4Cfn9ivAU4B3gf8oG+ZxyT5dBP7piR/nWS3vs+P6MuBtyV5Xd/yd0vyD802uTbJ+KTv8tzm9eoka2eYdv8kFzb7eDcl+Y0ZvpNmYLGngVXVlcBGesXWZK9pPlsO7Au8Dqi+z18KHA8cCjwBeMU0q5k4qvaQJPsAewBrgWP62n68me4hwLvonXl8DHA38NcA6R1B/yvgZ5sj7E8Dru5bz0/SS977AH8GvCNJms/WAPfRO3L3E8DzgF+eNO9XgRXAudN8D0kLbxXwcuAA4LH0eg68C1gGXAe8ftL0LwbGgScBJwK/NHmBTW65BPhnejngFODtSY6YLoiququZpz939ueRPwQuAF7W9/kpwL9X1eYkTwLeCfwqvaLxb4GLkuw+afqfAx7V9JKQtIOq6gfAZ3ngAPMzgU8Cl09qmzirdztwArAXvYM5b2n+XmF4+0XTTpvkeOC3gefS22d51jTz97sV2EBv3wZ6Z/n+YdI09wO/RW8f6anAc4Azm3XuCfw78GFg/2a96/rmfRG9fPYo4CKa/bJpTDltUxR/APgCvfz9HODVSZ4/wPfTJBZ72lG30ttRmuxeYD/g4Kq6t+lz3p/U/qqqbq2qLfT+gI+eZvmfBR4BHEVvx+jyqvoecFNf29er6uaquqOqLqyq7zU7U+eyfaL7IXBkkodX1aaqurbvs69X1d9V1f30irv9gH2T7Av8LPDqqvpuVd0OvIXeTuO2bVBVb6uq+6rq7tk2mKQF866q+kpVfRv4N3pH4/+9KYb+L72DOf3+tKq2VNXNwFvpFVCTnQB8rare1eSAzwMXAi+ZJZbJuXNyHlkD/Le+I/8vB/6xef0rwN9W1Wer6v6qWgPcQ6/r1YS/qqpbzEnSTvs4DxR2P02v2PvkpLaPA1TVB5scU1X1ceCjPHBQZ1j7RTNN+1J6ee7aZl/pDQN+x38AfjHJ4+kdIPp0/4dVdVVVfabJT1+jd4BpYv/qBOAbVfUXTe+Fu6rqs32zX15VH2r2r/4R2O76wEmmm/YpwPKq+sOq+kFVfRX4O7bfF9OALPa0ow4AtkzR/ufAjcBHm64MZ0/6/Bt9r78HPHKqhVfV94Er6SXViSNq8MBRtW1H1JI8IsnfJvl6kjub9kcl2aWqvkuv2+mvAZuSfDDJj08VT5MgaWI6mF4Xjk1N94Vv0UtyK/rmvWWq2CWNnNv6Xt89xfvJeaj/b/vr9I5aT3Yw8JMT+aHJEb8APHqWWCbnzu3ySLOz9F3gWU2u+jF6R7on1vmaSes8aFJ85iVpOD4BPCPJGL2C4wbgCuBpTduRPLAf8rNJPtN0Z/wW8AJ6Z8NgSPtFs0y7P9v/7Q+aB94LHAecxQMHlbZJ8rimC+o3mv2rP+GB73UQ8JUdiPVhM3Qtn27ag4H9J+W819E7Q6odZLGngSV5Cr0dlgcNQd4c2XlNVf0o8ELgt5M8Z46rmrhub+KIGjxwVO2neaD7xGuAxwM/WVV78cBRtzQxfaSqfobekbUv0zsqNJtb6B0x36eqHtU89qqq/i5aNc28kubPd+n1ApgwW7E1iIP6Xj+G3tm4yW4BPt6XHx7VDBZzxnQLTfJIet2sPtnXPFUeWUOvK+fLgX9pDn5NrPPcSet8RFWdP8vyJO24TwN7A6cDnwKoqjvp5YPT6Z2Vv6npRn0h8CZg36p6FPAhHtgHGeZ+0XQ2AQf2vT9ougn7NQe5/w04gymKPeB/09tvOqzZv3odzfeil48eO9eAB3QLcNOknLdnVb2g5fV2ksWeZpVkryQn0OtX/U9Vdc0U05yQ5Mea697upNff+/45rvITwLH0ktaGpu1y4Nn0ui5MFHt70js6/60ky+i7/ibJvkle1Fxfcw/wnUHiqapN9Lph/EXzvR+S5LFJBukHL2n+XA08M8lj0rutwWuHsMzfTW/gp4OA3wT+zxTTXAw8LsnLkzy0eTwlycrJEybZPcmTgX8FttK7XnAm/0jvusGXsf01NH8H/FqSn0zPHkl+rrl2RtIQNV2h19O7Fq7/AM3lTdvEPshuwO70RrG8L72B3iaugxv2ftF01gKvTLIyySOA/7ED874OeFbTTXOyPenF/J2mp0H/wayLgUcneXWT4/ZM8pNzjH86VwJ3pjfw1MOT7JLkyOakg3aQxZ5m8oEkd9E7wnIO8Gaa0eSmcBi9C3a/Q++o2Ntr7vdSuYLeUbXPTvRvr6o76CXU25suFdC7pubhwDeBz9C7WHjCQ+id+buVXtepZ9FcXDyAX6SXxDfQ20H7F3pnByWNiKq6hF4x9kXgKno7IDvr/c2yrgY+yBS3mmmuD34evWtHbqXXDelP6e30Tfi9JnduoVe0XQU8relePq2q2gh8nt5Zuk/2ta+nd93eX9PLSTcy82AOknbOx+ldvtHfk+mTTdsnYFsu+A16BddW4L/xQNdrGO5+0ZSq6t/oDUZ3Gb28MHHt3T0DzHtrVT2op1bjd+h9n7voHWz6P33z3QX8DL2zld8AbqB3gH5ommv4XkjvAP9N9Pbz/p7evqF2ULa/VlSSJC2UJO+k103svy90LJIWl6aHwZeA3ctRedWw2JMkaQSkd9+/q4GfqKqbFjYaSYtBkhfT64mwB73rfn9YVSctaFAaKXbjlCRpgSX5I3pH5P/cQk/SDvhVepe5fIXeNYHTDhalpckze5IkSZLUQZ7ZkyRJkqQOmu4mh4vCPvvsU4cccshChyFpyK666qpvVtXyhY5jZ5ifpO4xN0kaRTPlpkVd7B1yyCGsX79+ocOQNGRJvr7QMews85PUPeYmSaNoptxkN05JkiRJ6iCLPUmSJEnqIIs9SZIkSeogiz1JkiRJ6iCLPUmSJEnqIIs9SZIkSeogiz1JkiRJ6iCLPUmSJEnqIIs9SZIkSeogiz1JkiRJ6iCLPUmSJEnqIIs9SZIkSeogiz1JkiRJ6iCLPUmSJEnqIIs9SZIkSeogiz1JkiRJ6qBdFzoASZIWgyQ7PE9VtRCJJEmDsdiTJGkA0xVuSSzqJEkjyW6ckiRJktRBFnuSJEmS1EEWe5IkSZLUQRZ7kiRJktRBFnuSJEmS1EEWe5IkSZLUQa0We0l+K8m1Sb6U5PwkD0uyLMklSW5onsf6pn9tkhuTXJ/k+W3GJmnpMjdJGlXmJ0nD1Fqxl+QA4DeA8ao6EtgFWAWcDayrqsOAdc17khzefH4EcDzw9iS7tBWfpKXJ3ATnn38+Rx55JLvssgtHHnkk559//kKHJAnzk6Tha7sb567Aw5PsCjwCuBU4EVjTfL4GOKl5fSJwQVXdU1U3ATcCx7Qcn6SlacnmpvPPP59zzjmHt73tbXz/+9/nbW97G+ecc44FnzQ6lmx+kjR8rRV7VfVfwJuAm4FNwLer6qPAvlW1qZlmE7CimeUA4Ja+RWxs2raT5PQk65Os37x5c1vhS+qotnITLI78dO655/KOd7yDY489loc+9KEce+yxvOMd7+Dcc89d6NCkJc99J0nD1mY3zjF6R5wOBfYH9kjysplmmaKtHtRQdV5VjVfV+PLly4cTrKQlo63cBIsjP1133XU84xnP2K7tGc94Btddd90CRSRpgvtOkoatzW6czwVuqqrNVXUv8F7gacBtSfYDaJ5vb6bfCBzUN/+B9LouSNIwLenctHLlSi6//PLt2i6//HJWrly5QBFJ6rOk85Ok4Wuz2LsZ+Kkkj0gS4DnAdcBFwKnNNKcC729eXwSsSrJ7kkOBw4ArW4xP0tK0pHPTOeecw2mnncZll13Gvffey2WXXcZpp53GOeecs9ChSVri+UnS8O3a1oKr6rNJ/gX4PHAf8B/AecAjgbVJTqOX1E5upr82yVpgQzP9q6rq/rbik7Q0LfXcdMoppwBw1llncd1117Fy5UrOPffcbe2SFs5Sz0+Shi9VU156siiMj4/X+vXrFzoMSUOW5KqqGl/oOHaG+WnpSMJi/r9UgzM3SRpFM+Wmtm+9IEmSJElaABZ7kiRJktRBFnuSJEmS1EEWe5IkSZLUQRZ7kiRJktRBFnuSJEmS1EEWe5IkSZLUQRZ7kiRJktRBFnuSJEmS1EEWe5IkSZLUQRZ7kiRJktRBFnuSJEmS1EEWe5IkSZLUQRZ7kiRJktRBFnuSJEmS1EEWe5IkSZLUQRZ7kiRJktRBFnuSJEmS1EEWe5IkSZLUQRZ7kiRJktRBFnuSJEmS1EEWe5IkSZLUQRZ7kiRJktRBFnuSJEmS1EEWe5IkSZLUQRZ7kiRJktRBFnuSJEmS1EEWe5IkSZLUQRZ7kiRJktRBFnuSJEmS1EEWe5IkSZLUQRZ7kiRJktRBFnuSJEmS1EEWe5IkSZLUQa0Ve0ken+TqvsedSV6dZFmSS5Lc0DyP9c3z2iQ3Jrk+yfPbik3S0mVukjSqzE+Shq21Yq+qrq+qo6vqaODJwPeA9wFnA+uq6jBgXfOeJIcDq4AjgOOBtyfZpa34JC1N5iZJo8r8JGnY5qsb53OAr1TV14ETgTVN+xrgpOb1icAFVXVPVd0E3AgcM0/xSVqazE2SRpX5SdJOm69ibxVwfvN636raBNA8r2jaDwBu6ZtnY9O2nSSnJ1mfZP3mzZtbDFnSEjC03ATmJ0lD5b6TpJ3WerGXZDfgRcD/nW3SKdrqQQ1V51XVeFWNL1++fBghSlqChp2bwPwkaTjcd5I0LPNxZu9ngc9X1W3N+9uS7AfQPN/etG8EDuqb70Dg1nmIT9LSZG6SNKrMT5KGYj6KvVN4oBsCwEXAqc3rU4H397WvSrJ7kkOBw4Ar5yE+SUuTuUnSqDI/SRqKXdtceJJHAD8D/Gpf8xuBtUlOA24GTgaoqmuTrAU2APcBr6qq+9uMT9LSZG6SNKrMT5KGqdVir6q+B/zIpLY76I0wNdX05wLnthmTJJmbJI0q85OkYZqv0TglSZIkSfPIYk+SJEmSOqjVbpySpIWXTDU6+8yqpry7hCRJWkQs9iSp46Yr3JJY1EmS1GF245QkSZKkDrLYkyRJkqQOstiTJEmSpA7ymr0hmcsACOAgCJIkSZLaYbE3JA6AIEmSJGmU2I1TkiRJkjrIYk+SJEmSOshiT5IkSZI6yGJPkiRJkjrIYk+SJEmSOshiT5IkSZI6yGJPkiRJkjrIYk+SJEmSOshiT5IkSZI6yGJPkiRJkjrIYk+SJEmSOshiT5IkSZI6yGJPkiRJkjrIYk+SJEmSOshiT5IkSZI6yGJPkiRJkjrIYk+SJEmSOshiT5IkSZI6yGJPkiRJkjrIYk+SJEmSOshiT5IkSZI6yGJPkiRJkjrIYk+SJEmSOshiT5IkSZI6qNViL8mjkvxLki8nuS7JU5MsS3JJkhua57G+6V+b5MYk1yd5fpuxSVq6zE2SRpX5SdIwtX1m7y+BD1fVjwNPBK4DzgbWVdVhwLrmPUkOB1YBRwDHA29PskvL8UlamsxNkkaV+UnS0LRW7CXZC3gm8A6AqvpBVX0LOBFY00y2BjipeX0icEFV3VNVNwE3Ase0FZ+kpcncJGlUmZ8kDVubZ/Z+FNgMvCvJfyT5+yR7APtW1SaA5nlFM/0BwC19829s2raT5PQk65Os37x5c4vhS+qoVnITmJ8k7TT3nSQNVZvF3q7Ak4D/XVU/AXyXptvBNDJFWz2ooeq8qhqvqvHly5cPJ1JJS0kruQnMT5J2mvtOkoaqzWJvI7Cxqj7bvP8XegnstiT7ATTPt/dNf1Df/AcCt7YYn6SlydwkaVSZnyQNVWvFXlV9A7glyeObpucAG4CLgFObtlOB9zevLwJWJdk9yaHAYcCVbcUnaWkyN0kaVeYnScO2a8vLPwt4T5LdgK8Cr6RXYK5NchpwM3AyQFVdm2QtvaR2H/Cqqrq/5fg0YpKpeqTMrmrKXnXSdMxNkkaV+UnS0LRa7FXV1cD4FB89Z5rpzwXObTMmjbbpirYkFnQaGnOTpFFlfpI0TG3fZ0+SJEmStAAs9iRJkiSpgyz2JEmSJKmDLPYkSZIkqYMs9iRJkiSpgyz2JEmSJKmDLPYkSZIkqYMs9iRJkiSpgyz2JEmSJKmDLPYkSZIkqYMs9iRJkiSpgyz2JEmSJKmDLPYkSZIkqYMs9iRJkiSpgyz2JEmSJKmDdp1tgiRPB1YDBzfTB6iq+tF2Q5MkSZIkzdWsxR7wDuC3gKuA+9sNR5IkSZI0DIMUe9+uqn9rPRJJkiRJ0tBMW+wleVLz8rIkfw68F7hn4vOq+nzLsUmSJEmS5mimM3t/Men9eN/rAo4bfjiSJEmSpGGYttirqmPnMxBJkiRJ0vDM1I3zDuAzwBXAp4Arq+p78xWYJEmSJGnuZrrP3qHAXwIPBV4H3JLkc0n+MslL5yU6SZIkSdKczNSN807go82DJHsArwReDfw6sHYe4pMkSZIkzcFM3Tj3B57WPJ7SNF8F/Hfg0+2HJkmSJEmaq5lG49wIfB54C3B2Vf1gfkKSJEmSJO2smYq9pwNPBV4M/HaSr9E7o/dpYH1V3TPDvJIkSZKkBTTTNXsThd2bAZIcArwQWAMcCDxsHuKTJEmSJM3BTGf2SPLjPHDd3tOBMXoF4N+0H5okSZIkaa5mGqDlm8AmevfZ+yTwxqq6cb4CkyRJkiTN3Uxn9h5bVd9OsqyqtvR/kOTQqrqp5dgkSZIkSXM07U3Vq+rbzcsPJNlroj3J4cAH2g5MkiRJkjR30xZ7ff6EXsH3yCRPBv4v8LJ2w5IkSZIk7YxZi72q+iC9e+19FHg3cFJVXT3IwpN8Lck1Sa5Osr5pW5bkkiQ3NM9jfdO/NsmNSa5P8vy5fCFJmo25SdKoMj9JGqZpi70kb0vyV0n+CjgO2Au4CTiraRvUsVV1dFWNN+/PBtZV1WHAuub9RPfQVcARwPHA25PsssPfSJIGY26SNKrMT5KGYqYBWtZPen/VkNZ5IvDs5vUa4GPA7zftFzQ3a78pyY3AMfRu9SBJbTM3SRpV5idJczLTTdXXDGH5BXw0SQF/W1XnAftW1aZmHZuSrGimPQD4TN+8G5u27SQ5HTgd4DGPecwQQpS0BA09N4H5SdJQuO8kaWhmvKn6EDy9qm5tktIlSb48w7SZoq0e1NBLeucBjI+PP+hzSRrA0HMTmJ+kQSRT/UnNrGpJ/Tm57yRpaAYZjXPOqurW5vl24H30uhbclmQ/gOb59mbyjcBBfbMfCNzaZnySliZzk7RwqmrKx2yfLRXmJ0nD1Fqxl2SPJHtOvAaeB3wJuAg4tZnsVOD9zeuLgFVJdk9yKHAYcGVb8UlamsxNkkaV+UnSsM3ajTPJ44DfBQ7un76qjptl1n2B9zXdNXYF/rmqPpzkc8DaJKcBNwMnN8u7NslaYANwH/Cqqrp/x7+SJM2ok7lp2bJlbN26dYfn25EudWNjY2zZsmWH1yFpYJ3MT5IWTmbrHpHkC8Df0BuNc1sCqaphjc45Z+Pj47V+/eRBQ0dLkiXXBaUNbselJclVfUOOL0rznZ/m42/Ev8OpuV2GYzFsR3OTpFE0U24aZICW+6rqfw85JkmSJElSiwa5Zu8DSc5Msl+SZROP1iOTJEmSJM3ZIGf2Ji4I/t2+tgJ+dPjhSJIkSZKGYdZir6oOnY9AJEkaBXMZ7MaBbiRJo2iQ0TgfAfw28JiqOj3JYcDjq+ri1qOTJGmebd26tdWBQuZyU3FJkuZikGv23gX8AHha834j8MetRSRJkiRJ2mmDFHuPrao/A+4FqKq7AQ9LSpIkSdIIG6TY+0GSh9MblIUkjwXuaTUqSZIkSdJOGWQ0ztcDHwYOSvIe4OnAK9oMSpIkSZK0cwYZjfOSJJ8Hfope983frKpvth6ZJEmSJGnOBjmzR1XdAXyw5VgkSZIkSUMyyDV7kiRJkqRFxmJPkiRJkjpooG6cSXYB9u2fvqpubisoSZIkSdLOmbXYS3IWvRE5bwN+2DQX8IQW45IkSZIk7YRBzuz9JvD4ZpAWSZIkSdIiMMg1e7cA3247EEmSJEnS8AxyZu+rwMeSfBC4Z6Kxqt7cWlSSJEmSpJ0ySLF3c/PYrXlIkiRJkkbcrMVeVb0BIMmevbf1ndajkiRJkiTtlFmv2UtyZJL/AL4EXJvkqiRHtB+aJEmSJGmuBhmg5Tzgt6vq4Ko6GHgN8HfthiVJkiRJ2hmDFHt7VNVlE2+q6mPAHq1FJEmSJEnaaQONxpnkD4B/bN6/DLipvZAkSZIkSTtrkDN7vwQsB94LvK95/co2gxply5YtI8nAD2CHpk/CsmXLFvhbSpIkSVrsBhmNcyvwG/MQy6KwdetWqqrVdUwUiZIkSZI0V9MWe0neWlWvTvIB4EHVTVW9qNXI1GnLli1j69atOzTPjhbBY2NjbNmyZYfmkSRJkrpipjN7E9fovWk+AtHS4hlSSZKWtrn8P932voPUNdMWe1V1VfPy6Kr6y/7Pkvwm8PE2A5MkSVJ3TVe4JbGok4ZkkAFaTp2i7RVDjkOSJEmSNEQzXbN3CvDfgEOTXNT30Z7AHW0HJkmSJEmau5mu2bsC2ATsA/xFX/tdwBfbDEqSJEmStHNmumbv68DXgafOXziSJEmSpGGY9Zq9JD+V5HNJvpPkB0nuT3LnfAQnSZIkSZqbQQZo+WvgFOAG4OHALwNvG3QFSXZJ8h9JLm7eL0tySZIbmuexvmlfm+TGJNcnef6OfRVJGpy5SdIoMjdJGqZBij2q6kZgl6q6v6reBRy7A+v4TeC6vvdnA+uq6jBgXfOeJIcDq4AjgOOBtyfZZQfWI6mRZE6PJcbcJGkUmZskDc0gxd73kuwGXJ3kz5L8FrDHIAtPciDwc8Df9zWfCKxpXq8BTuprv6Cq7qmqm4AbgWMGWY+k7VXVlI+ZPltK9zQyN0kaReYmScM2SLH3cmAX4NeB7wIHAf//gMt/K/B7wA/72vatqk0AzfOKpv0A4Ja+6TY2bdtJcnqS9UnWb968ecAwJGk7b2XIuQnMT5J22lsxN0kaolmLvar6elXdXVV3VtUbquq3m26dM0pyAnB7VV01YCxT9SF70KmGqjqvqsaranz58uUDLlqSetrKTWB+kjR35iZJbZjpPnvAtuTzR8DBzfQBqqr2mmXWpwMvSvIC4GHAXkn+CbgtyX5VtSnJfsDtzfQb6Z01nHAgcOsOfRtJmp25SdIoMjdJGrpBunG+FTgV+JGq2quq9hyg0KOqXltVB1bVIfQuIL60ql4GXNQsj+b5/c3ri4BVSXZPcihwGHDlDn0bSZqFuUnSKDI3SWrDrGf26PUH/1INb/SGNwJrk5wG3AycDFBV1yZZC2wA7gNeVVX3D2mdkjQbc5OkUWRukjRnma2GS/IUet04Pw7cM9FeVW9uN7TZjY+P1/r16+d1nUlaH7VwPtax0NyOC2OxbJMkV1XV+ELHsTPmOz/5NzU8bX/PpbIdd9Ri2C7mpvmxGH4L0iiZKTcNcmbvXOA79PqP7zbMwCRJkiRJ7Rik2FtWVc9rPRJJ0pytOGkFR605atv7C064AIBVF6/a1nbGE8/gzKPP5Li1x7H57t7w6yuXrWTtC9ey+orVXHjDhdumXXfyOjbcsYGzLj1rW9vYs8ba/hqSpB2UTDUw68w8c7p0DNKN8430LhL+6PyENDi7cS5ebseFsVi2iV2ldpx/U8NjN86FsRi2i7lpfiyG38Ji4HZcOmbKTYOMxvkq4MNJ7k5yZ5K7ktw53BAlSZIkScM0azfOqtpzPgKRJEmSJA3PINfskeQJwCH901fVe1uKSZIkSZK0k2Yt9pK8E3gCcC3ww6a5AIs9SRoR9fq9YPXe7a9DkiQtGoOc2fupqjq89UgkSXOWN9w5PwO0rG51FZIkaYgGGaDl00ks9iRJkiRpERnkzN4aegXfN4B7gABVVU9oNTJJkiRJ0pwNUuy9E3g5cA0PXLMnSZIkSRphgxR7N1fVRa1HIkmSJEkamkGKvS8n+WfgA/S6cQLeekGSJEmSRtkgxd7D6RV5z+tr89YLkiRJkjTCZi32quqV8xGIJEmSJGl4Zr31QpIDk7wvye1JbktyYZID5yM4SZIkSdLcDHKfvXcBFwH7AwfQu3bvXW0GJUmSJEnaOYNcs7e8qvqLu3cneXVL8Yy8//WWgzhqzVHb3l/wX5sAWHXAftvaztj6bc781rc57qD92bxrbxOvvOcHrL31G6z+kWVcuNcjt0277ub/YsNuu3HWo5dva1v7pgeWJUmSJElzMUix980kLwPOb96fAtzRXkij7VW/dQtVNz+o/Zoppr10irbVzaPfiknzJ6FeM8cAJUmSJInBir1fAv4aeEvz/lNNmyRJnbPipBXb9+A44QIAVl28alvbGU88gzOPPpPj1h7H5rs3A7By2UrWvnAtq69YzYU3XLht2nUnr2PDHRs469Kzti1fkqT5kKpa6BjmbHx8vNavXz+v60xC29tsPtax0NyOC2OxbJMkV1XV+ELHsTPmOz/5NzU8bX/PpbIdd9Ri2C7mpvmxGH4Li4HbcemYKTcNMhrnnyXZK8lDk6xLMtGtU5IkSZI0ogYZjfN5VXUncAKwEXgc8LutRiVJkiRJ2imDFHsPbZ5fAJxfVVtajEeSJEmSNASDDNDygSRfBu4GzkyyHPh+u2FJkiRJknbGrGf2qups4KnAeFXdC3wXOLHtwCRJkiRJczfImT2AlcAhSfqn/4cW4pEkSZIkDcGsxV6SfwQeC1wN3N80FxZ7kiRJkjSyBjmzNw4cXt6oQ5IkSZIWjUFG4/wS8Oi2A5EkSZIkDc8gZ/b2ATYkuRK4Z6Kxql7UWlSSJEmSpJ0ySLG3uu0gJEmSJEnDNWuxV1UfT7Iv8JSm6cqqur3dsCRJkiRJO2PWa/aSvBS4EjgZeCnw2SQvGWC+hyW5MskXklyb5A1N+7IklyS5oXke65vntUluTHJ9kufP/WtJ0tTMTZJGlflJ0rANMkDLOcBTqurUqvpF4BjgDwaY7x7guKp6InA0cHySnwLOBtZV1WHAuuY9SQ4HVgFHAMcDb0+yyw5+H0majblJ0qgyP0kaqkGKvYdM6rZ5xyDzVc93mrcPbR4FnAisadrXACc1r08ELqiqe6rqJuBGeoWlJA2NuUnSqDI/SRq2QYq9Dyf5SJJXJHkF8EHg3wZZeJJdklwN3A5cUlWfBfatqk0AzfOKZvIDgFv6Zt/YtE1e5ulJ1idZv3nz5kHCkKTttJGbmuWanyTtFPedJA3TIAO0/G6S/w94BhDgvKp63yALr6r7gaOTPAp4X5IjZ5g8Uy1iimWeB5wHMD4+7o3eF6kVJ63gqDVHbXt/wQkXALDq4lXb2s544hmcefSZHLf2ODbf3fvPaeWylax94VpWX7GaC2+4cNu0605ex4Y7NnDWpWdtaxt71rZLGqTttJGbmuWanyTtlC7uOy1btoytW7fu0DzJVF9tamNjY2zZsmVHw5KWhGmLvSQ/Ru9I0qeq6r3Ae5v2ZyZ5bFV9ZdCVVNW3knyMXn/y25LsV1WbkuxH78gV9I5GHdQ324HArTv2dbRY3P6vt3Pb+257UPs1p17zoLZLX3rpg9pWP201q5+2eru2FY9Ysd38ecXg/1FoaepabtqRnaO5GBvzAIo0X7qUn7Zu3UpVezVm27lPWsxm6sb5VuCuKdq/13w2oyTLm6NSJHk48Fzgy8BFwKnNZKcC729eXwSsSrJ7kkOBw+iNAipJQ9PV3FRVO/zY0fk8ci61q6v5SdLCmakb5yFV9cXJjVW1PskhAyx7P2BNMyrUQ4C1VXVxkk8Da5OcBtxM75YOVNW1SdYCG4D7gFc1XRkkaZjMTZJGlflJ0lDNVOw9bIbPHj7bgptC8SemaL8DeM4085wLnDvbsrX41ev3gtV7t78OaRJzk6RRZX6SNGwzFXufS/IrVfV3/Y3NUaWr2g1LXZc33Nlq/33o9eGv1a2uQpIkSRpZMxV7r6Y3CtQv8EBxNw7sBry45bgkSVoQbfc8sNeBJGm+TFvsVdVtwNOSHAtMDPv7wap68NCIkiR1RNs9D+x1IEmaL4PcZ+8y4LJ5iEWSJEmSNCQz3XpBkiRJkrRIWexJkiRJUgdZ7EmSJEkjbtmyZSQZ+AHs0PRJWLZs2QJ/Sw3brNfsSZIkSVpYW7dunZfbVqlbPLMnSZIkSR1ksSdJkoau7S5ndjeTpNnZjVOSJA1d213O7G4mSbPzzJ4kSZIkdZBn9uag7aOJY2NjrS5fkiRJ0gPmsn/f9oA5w2Cxt4N29B81yaL4IUiSJElL1XT764t9X95unJIkSZLUQRZ7kiRJktRBduOUJElSa+r1e8HqvdtdvqQpWexJi9iyZcvYunXrDs2zoxcgj42NsWXLlh2aR5KkCft+4WGsOGnFtvcXnHABAKsuXrWt7YwnnsGZR5/JcWuPY/PdmwFYuWwla1+4ltVXrObCGy7cNu26k9ex4Y4NnHXpWQDc/q+3c9t8fBFpEcpivuBwfHy81q9fv9BhzGixX9TZlvnYLkth23d1Oya5qqrG53WlQ2Z+Wrza3i5LZbt3cTuam+ami7+FhdDV//NH3WLYJjPlJq/ZkyRJkqQOstiTJEmSpA6y2JMkSZKkDrLYkyRJkqQOstiTJEmSpA6y2JMkSZKkDrLYkyRJkqQOstiTJEmSpA6y2JMkSZKkDrLYkyRJkqQOstiTJEmSpA6y2JMkSZKkDrLYkyRJkqQOstiTJEmSpA5qrdhLclCSy5Jcl+TaJL/ZtC9LckmSG5rnsb55XpvkxiTXJ3l+W7FJWrrMTZJGlflJ0rDt2uKy7wNeU1WfT7IncFWSS4BXAOuq6o1JzgbOBn4/yeHAKuAIYH/g35M8rqrubzFGSUuPuUnSqDI/aVr1+r1g9d7tr0Od0lqxV1WbgE3N67uSXAccAJwIPLuZbA3wMeD3m/YLquoe4KYkNwLHAJ9uK0ZJS4+5SdKoMj9pJnnDnVRVu+tIqNWtrkLzrM0ze9skOQT4CeCzwL5NMqOqNiVZ0Ux2APCZvtk2Nm2S1Apzk6RRZX7SZCtOWsFRa47a9v6CEy4AYNXFq7a1nfHEMzjz6DM5bu1xbL57MwArl61k7QvXsvqK1Vx4w4Xbpl138jo23LGBsy49a1vb2LO29RBWR7Re7CV5JHAh8OqqujPJtJNO0fagwxdJTgdOB3jMYx4zrDAlLTHDzk3NMs1Pknaa+06ayu3/eju3ve+2B7Vfc+o1D2q79KWXPqht9dNWs/ppq7drW/GIFdvNn1dM+1vTItXqaJxJHkovWb2nqt7bNN+WZL/m8/2A25v2jcBBfbMfCNw6eZlVdV5VjVfV+PLly9sLXlJntZGbwPwkaee57yRpmNocjTPAO4DrqurNfR9dBJzavD4VeH9f+6okuyc5FDgMuLKt+CQtTeYmDSJJa4+xMbtJaWrmJ0nD1mY3zqcDLweuSXJ10/Y64I3A2iSnATcDJwNU1bVJ1gIb6I1G9SpHk5LUAnOTZrSjAyAkaX3QBC0Z5idJQ9XmaJyXM3VfcoDnTDPPucC5bcUkSeYmaX60PZjEipNW0DVdzk8zXHe40zxbLk0vi/lo5Pj4eK1fv36hw5iRR3ynNh/bZSls+65uxyRXVdX4vK50yMxPS4fbcWptbxdz09yYmxavrv6fP+oWwzaZKTe1OkCLJEmSJGlhWOxJkiRJUgdZ7EmSJElSB1nsSZIkSVIHtXnrBWlGbY7MBY7OJUmSpKXNYk8LwvtYSZIkSe2yG6ckSZIkdZBn9qRFrO2bFgOMPcvusJIkSYuRN1Vvmd0Ph8PtOLWu3mDVGxfPD/+uhsPtODVvqj6azE2LV1f/z59vy5YtY+vWra2uY2xsjC1btrS6jn4z5SbP7EmSJElaErZu3TovRfOo8Jo9SZIkSeogiz1JkiRJ6iCLPUmSJEnqIIs9SZIkSeogiz1JkiRJ6iCLPUmSJEnqIIs9SZIkSeog77MnSZKGrl6/F6zeu93lS5JmZLEnSZKGLm+4s9UbFyehVre2eEnqBIs9aRFr+8j5tnVIkiRp0bHYkxaxto+cg0fPJUmSFisHaJEkSZKkDrLYkyRJkqQOstiTJEmSpA7ymj1JkiRpEUjS6vLHxsZaXb7mn8WeJEmSNOJ2dEC2JK0P4qbRZzdOSZIkSeogiz1JkiRJ6iCLPUmSJEnqIK/ZkyRJkrQkrDhpBUetOWrb+wtOuACAVRev2tZ2xhPP4Myjz+S4tcex+e7NAKxctpK1L1zL6itWc+ENF26bdt3J69hwxwbOuvSsbW1jzxqdgW6ymC/cHB8fr/Xr1y90GDPy4tjhcDtObT62y0Js+yRXVdX4vK50yMxPS4fbcWptbxdz09yYm5YOt+PUurjvNFNushunJEmSJHWQxZ4kSZIkdVBrxV6Sdya5PcmX+tqWJbkkyQ3N81jfZ69NcmOS65M8v624JMn8JGkUmZskDVubZ/beDRw/qe1sYF1VHQasa96T5HBgFXBEM8/bk+zSYmySlrZ3Y36SNHrejblJ0hC1VuxV1SeALZOaTwTWNK/XACf1tV9QVfdU1U3AjcAxbcUmaWkzP0kaReYmScM239fs7VtVmwCa5xVN+wHALX3TbWzaHiTJ6UnWJ1m/efPmVoOVtKSYnySNInOTpDkblQFaMkXblOOVVtV5VTVeVePLly9vOSxJMj9JGknmJkmzmu+bqt+WZL+q2pRkP+D2pn0jcFDfdAcCt85zbJKWNvOTpFFkbpKGqF6/F6zeu/11jIj5LvYuAk4F3tg8v7+v/Z+TvBnYHzgMuHKeY5O0tJmfJI0ic5M0RHnDnfNzU/XVra5iYK0Ve0nOB54N7JNkI/B6eolqbZLTgJuBkwGq6toka4ENwH3Aq6rq/rZik7S0mZ8kjSJzk6Rha63Yq6pTpvnoOdNMfy5wblvxSNIE85OkUWRukjRsozJAiyRJkiRpiCz2JEmSJKmDLPYkSZIkqYPmezROSZK0RCRT3QpuOMbGxlpbtiR1hcWetMi1uTMF7lBJmpsdHdo8SevDoUvSUmOxJy1i7kxJkiRpOl6zJ0mSJEkd5Jk9jZSZuiTO9JlnqyRJkqTtWexppFi0SZIkqU1LabwDiz1JkiRJS8JSG+/Aa/YkSZIkqYMs9iRJkiSpg+zGOSQOLCJJkiRplFjsDYlFmyRJkqRRYjdOSZIkSeogiz1JkiRJ6iC7cUqSNIC5XJttF39J0kKy2JMkaQAWbpJGkQeiNBOLPUmSJGmRsnDTTLxmT5IkSZI6yDN7kiRJmnd2P5TaZ7EnSZKkeWfhJrXPYk+SOs6j55IkLU0We5LUcRZukiQtTQ7QIkmSJEkdZLEnSZIkSR1ksSdJkiRJHWSxJ0mSJEkd5AAtUgfNZfRFcCAPSZKkLrHYkzrIok2SJGlwXb1NkcWeJEmSpCVtMRRuc+E1e5IkSZLUQZ7ZkyRJ86arXaUkaRSN3Jm9JMcnuT7JjUnOXuh4JAnMTdKwVNUOPzQ9c5OkmYxUsZdkF+B/AT8LHA6ckuTwhY1K0lJnbpI0isxNkmYzUsUecAxwY1V9tap+AFwAnLjAMUmSuUnSKDI3SZrRqBV7BwC39L3f2LRtk+T0JOuTrN+8efO8BidpyZo1N4H5SdK8MzdJmtGoFXtTXZm9XWf9qjqvqsaranz58uXzFJakJW7W3ATmJ0nzztwkaUajVuxtBA7qe38gcOsCxSJJE8xNkkaRuUnSjEat2PsccFiSQ5PsBqwCLlrgmCTJ3CRpFJmbJM1opO6zV1X3Jfl14CPALsA7q+raBQ5L0hJnbpI0isxNkmYzUsUeQFV9CPjQQschSf3MTZJGkblJ0kxGrRunJEmSJGkILPYkSZIkqYMs9iRJkiSpgyz2JEmSJKmDLPYkSZIkqYMs9iRJkiSpgyz2JEmSJKmDUlULHcOcJdkMfH2h45jFPsA3FzqIDnA7Dsdi2Y4HV9XyhQ5iZ5iflhS343Ashu1obpofi+G3sBi4HYdjMWzHaXPToi72FoMk66tqfKHjWOzcjsPhdlQ/fw/D4XYcDrejJvhbGA6343As9u1oN05JkiRJ6iCLPUmSJEnqIIu99p230AF0hNtxONyO6ufvYTjcjsPhdtQEfwvD4XYcjkW9Hb1mT5IkSZI6yDN7kiRJktRBFnuSJEmS1EEWe7NI8ugkFyT5SpINST6U5HEtreuZST6f5L4kL2ljHfNpPrdds76XNuu5Nsk/97WfmuSG5nFqW+tvyzz/Bt+S5Orm8Z9JvtW0H9vXfnWS7yc5qY0YNDjz09yZn4bD/KSpmJvmztw0HOamPlXlY5oHEODTwK/1tR0N/HRL6zsEeALwD8BLFvr7L7JtdxjwH8BY835F87wM+GrzPNa8Hlvo7TOq23HSus8C3jlF+zJgC/CIhd4+S/lhflpU2878NPx1m59G9GFuWlTbztw0/HWPXG7yzN7MjgXuraq/mWioqqur6pNJHplkXXM06ZokJwIk2SPJB5N8IcmXkvx80/7kJB9PclWSjyTZb/LKquprVfVF4Ifz9QVbNK/bDvgV4H9V1dZmXbc37c8HLqmqLc1nlwDHt/i9h22+t2O/U4Dzp2h/CfBvVfW9IX1HzY35ae7MT8NhftJUzE1zZ24aDnNTn13ne4WLzJHAVdN89n3gxVV1Z5J9gM8kuYjeH8OtVfVzAEn2TvJQ4G3AiVW1ufkBnQv8UvtfYcHM97Z7XDPPp4BdgNVV9WHgAOCWvuk2Nm2LxYL8BpMcDBwKXDrFx6uAN+/Ml9JQmJ/mzvw0HOYnTcXcNHfmpuEwN/Wx2Ju7AH+S5Jn0jiYdAOwLXAO8KcmfAhc3RxGOpPfDuyQJ9P6gNi1M2COhjW23K73uCM8GDgQm5s0U03blfiNt/gZXAf9SVfdvt8LeEa2jgI8M+8toqMxPc2d+Gg7zk6Zibpo7c9NwLLncZLE3s2vpnXadyi8Ay4EnV9W9Sb4GPKyq/jPJk4EXAP8zyUeB9wHXVtVT5yPoETHf224j8Jmquhe4Kcn19BLYRnpJbMKBwMfm9pUWxEL9BlcBr5qi/aXA+5rtrIVlfpo789NwmJ80FXPT3JmbhsPc1Mdr9mZ2KbB7kl+ZaEjylCTPAvYGbm9+KMcCBzef7w98r6r+CXgT8CTgemB5kqc20zw0yRHz/F3m23xvu3+l10eb5rT84+hdUPwR4HlJxpKMAc9jcR31nfffYJLH07sg+9NTfDxdX3TNP/PT3JmfhsP8pKmYm+bO3DQc5qZ+NQKj5ozyA9gfWAt8hd6Rgg/SO+qxD71/0PXA3wPX0RsR6vnAF4Grgc8B481yjgY+AXyhWc6vTLGup9A7mvJd4A56RxMWfBsskm0Xen2hN9A7Fb+q77NfAm5sHq9c6O0yytuxmW418MYp2g8B/gt4yEJvEx/z/9swP5mfFno7NtOZnxbBw9y0aLaduWkJ5KY0gUiSJEmSOsRunJIkSZLUQRZ7kiRJktRBFnuSJEmS1EEWe5IkSZLUQRZ7WvKS7Jrk15PsvtCxSJIkScNisaehSPLoJBck+UqSDUk+lORxLa3r6CQv6Hv/oiRnN69XJ/md5vUfJnnuLMsK8Fbgi1V1TxvxSpIkSQvBWy9opzUF0xXAmqr6m6btaGDPqvpkC+t7Bb37n/z6FJ+tBr5TVW8a9nolSZKkxcQzexqGY4F7Jwo9gKq6uqo+meSRSdYl+XySa5KcCJBkjyQfTPKFJF9K8vOTF5rkY0nGm9f7JPlakt2APwR+PsnVSX4+ySuS/PUU8787yUua129szjh+McmbmrblSS5M8rnm8fRWto4kSZK0AHZd6ADUCUcCV03z2feBF1fVnUn2AT6T5CLgeODWqvo5gCR7D7KiqvpBkv9B35m95kzftJIsA14M/HhVVZJHNR/9JfCWqro8yWOAjwArB4lDkiRJGnUWe2pbgD9J8kzgh8ABwL7ANcCbkvwpcHEb3T373Emv6Pz7JB8ELm7anwsc3uuFCsBeSfasqrtajEWSJEmaF3bj1DBcCzx5ms9+AVgOPLmqjgZuAx5WVf/ZzHMN8D+bs3WT3ccDv9GHzTW4qroPOAa4EDgJ+HDz0UOAp1bV0c3jAAs9SZIkdYXFnobhUmD3JL8y0ZDkKUmeBewN3F5V9yY5Fji4+Xx/4HtV9U/Am4AnTbHcr/FAEfmSvva7gD0HDS7JI4G9q+pDwKuBo5uPPgr8et90R0+eV5IkSVqsLPa006o3pOuLgZ9pbr1wLbAauBV4DzCeZD29s3xfbmY7CrgyydXAOcAfT7HoNwFnJLkC2Kev/TJ63S+vnmpglynsCVyc5IvAx4Hfatp/o4nti0k2AL826HeWJEmSRp23XpAkSZKkDvLMniRJkiR1kMWeJEmSJHWQxZ4kSZIkdZDFniRJkiR1kMWeJEmSJHWQxZ4kSZIkdZDFniRJkiR10P8D4sDmXw8h4TIAAAAASUVORK5CYII=\n",
      "text/plain": [
       "<Figure size 1080x504 with 3 Axes>"
      ]
     },
     "metadata": {
      "needs_background": "light"
     },
     "output_type": "display_data"
    },
    {
     "data": {
      "image/png": "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\n",
      "text/plain": [
       "<Figure size 1080x504 with 3 Axes>"
>>>>>>> Stashed changes
      ]
     },
     "metadata": {
      "needs_background": "light"
     },
     "output_type": "display_data"
    },
    {
     "data": {
<<<<<<< Updated upstream
      "image/png": "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\n",
      "text/plain": [
       "<Figure size 432x288 with 3 Axes>"
=======
      "image/png": "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\n",
      "text/plain": [
       "<Figure size 1080x504 with 3 Axes>"
>>>>>>> Stashed changes
      ]
     },
     "metadata": {
      "needs_background": "light"
     },
     "output_type": "display_data"
    }
   ],
   "source": [
    "plt.figure(1)\n",
    "\n",
    "ax1 = plt.subplot(131)\n",
<<<<<<< Updated upstream
    "ax1.title.set_text('Dish Washer consumption ')\n",
=======
    "ax1.title.set_text('Dish Washer')\n",
>>>>>>> Stashed changes
    "ax1.set_xlabel ('Cas utilisé')\n",
    "ax1.set_ylabel ('Consommation en kWh')\n",
    "ax1.xaxis.set_ticklabels(['Case 1','Case 60', 'Case 77'])\n",
    "bp = plt.boxplot(DishWasher, meanline = True,showmeans =True)\n",
    "\n",
    "ax2 = plt.subplot(132, sharey = ax1)\n",
<<<<<<< Updated upstream
    "ax2.title.set_text('TumbleDryer consumption ')\n",
=======
    "ax2.title.set_text('TumbleDryer ')\n",
>>>>>>> Stashed changes
    "ax2.xaxis.set_ticklabels(['Case 1','Case 60', 'Case 77'])\n",
    "bp = plt.boxplot(TumbleDryer, meanline = True,showmeans =True)\n",
    "\n",
    "ax3 = plt.subplot(133, sharey=ax1)\n",
<<<<<<< Updated upstream
    "ax3.title.set_text('Washing Machine consumption')\n",
=======
    "ax3.title.set_text('Washing Machine')\n",
>>>>>>> Stashed changes
    "ax3.xaxis.set_ticklabels(['Case 1','Case 60', 'Case 77'])\n",
    "bp = plt.boxplot(WashingMachine, meanline = True,showmeans =True)\n",
    "\n",
    "plt.figure(2)\n",
    "ax4 = plt.subplot(131)\n",
<<<<<<< Updated upstream
    "ax4.title.set_text('Domestic Hot Water consumption ')\n",
=======
    "ax4.title.set_text('Domestic Hot Water')\n",
>>>>>>> Stashed changes
    "ax4.set_xlabel ('Cas utilisé')\n",
    "ax4.set_ylabel ('Consommation en kWh')\n",
    "ax4.xaxis.set_ticklabels(['Case 1','Case 60', 'Case 77'])\n",
    "bp = plt.boxplot(DHW, meanline = True,showmeans =True)\n",
    "\n",
    "ax5 = plt.subplot(132, sharey=ax4)\n",
<<<<<<< Updated upstream
    "ax5.title.set_text('Heat Pump consumption ')\n",
=======
    "ax5.title.set_text('Heat Pump ')\n",
>>>>>>> Stashed changes
    "ax5.xaxis.set_ticklabels(['Case 1','Case 60', 'Case 77'])\n",
    "bp = plt.boxplot(HP, meanline = True,showmeans =True)\n",
    "\n",
    "ax6 = plt.subplot(133, sharey=ax4)\n",
<<<<<<< Updated upstream
    "ax6.title.set_text('Total appliance consumption ')\n",
=======
    "ax6.title.set_text('Total appliance')\n",
>>>>>>> Stashed changes
    "ax6.xaxis.set_ticklabels(['Case 1','Case 60', 'Case 77'])\n",
    "bp = plt.boxplot(TotalConsumption, meanline = True,showmeans =True)\n",
    "\n",
    "if corr == True :\n",
    "    plt.figure(3)\n",
    "    ax7 = plt.subplot(131)\n",
    "    ax7.title.set_text('Factor gain for DHW ')\n",
    "    ax7.set_xlabel ('Cas utilisé')\n",
    "    ax7.set_ylabel ('Facteur de gain')\n",
    "    ax7.xaxis.set_ticklabels(['Moyenne nationale'])\n",
    "    bp = plt.boxplot(DHW_fact, meanline = True,showmeans =True)\n",
    "\n",
    "    ax8 = plt.subplot(132, sharey = ax7)\n",
    "    ax8.title.set_text('Factor gain for HeatPump Power ')\n",
    "    ax8.xaxis.set_ticklabels(['Moyenne nationale'])\n",
    "    bp = plt.boxplot(HP_fact, meanline = True,showmeans =True)\n",
    "\n",
    "    ax9 = plt.subplot(133, sharey = ax7)\n",
    "    ax9.title.set_text('Factor gain for StaticLoad ')\n",
    "    ax9.xaxis.set_ticklabels(['Moyenne nationale'])\n",
    "    bp = plt.boxplot(HP_fact, meanline = True,showmeans =True)\n",
    "\n",
    "plt.legend()\n",
    "plt.show()"
   ]
  },
  {
   "cell_type": "code",
   "execution_count": null,
   "id": "ac894e54-dbb9-44e6-87a3-b8bba12b3632",
   "metadata": {},
   "outputs": [],
   "source": []
  }
 ],
 "metadata": {
  "kernelspec": {
   "display_name": "Python 3 (ipykernel)",
   "language": "python",
   "name": "python3"
  },
  "language_info": {
   "codemirror_mode": {
    "name": "ipython",
    "version": 3
   },
   "file_extension": ".py",
   "mimetype": "text/x-python",
   "name": "python",
   "nbconvert_exporter": "python",
   "pygments_lexer": "ipython3",
   "version": "3.8.12"
  }
 },
 "nbformat": 4,
 "nbformat_minor": 5
}
