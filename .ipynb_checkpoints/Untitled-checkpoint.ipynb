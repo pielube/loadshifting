{
 "cells": [
  {
   "cell_type": "code",
   "execution_count": 47,
   "id": "7fba9ad1-732d-4502-b8ec-6f5ee0d122fe",
   "metadata": {},
   "outputs": [
    {
     "name": "stdout",
     "output_type": "stream",
     "text": [
      "No Warning Shown\n"
     ]
    }
   ],
   "source": [
    "import warnings\n",
    "warnings.filterwarnings('ignore')\n",
    "warnings.warn('DelftStack')\n",
    "warnings.warn('Do not show this message')\n",
    "print(\"No Warning Shown\")"
   ]
  },
  {
   "cell_type": "markdown",
   "id": "55e2960c-d83b-42ac-942d-40062c217802",
   "metadata": {},
   "source": [
    "### Simulation stochastique"
   ]
  },
  {
   "cell_type": "code",
   "execution_count": 48,
   "id": "10fa8700-22c4-42e8-ac87-a10033254235",
   "metadata": {},
   "outputs": [],
   "source": [
    "import json\n",
    "import matplotlib.pyplot as plt\n",
    "import os\n",
    "import numpy as np \n",
    "\n",
    "path = '\\inputs'\n",
    "name = 'app_cons_members_correction'\n",
    "file= name + '.json'\n",
    "with open(file) as f:\n",
    "    app_cons_corr = json.load(f)"
   ]
  },
  {
   "cell_type": "code",
   "execution_count": 49,
   "id": "b3efce0e-0272-4b4f-a08f-ec7bfff6f2bc",
   "metadata": {},
   "outputs": [],
   "source": [
    "corr = False\n",
    "H4f = 0.301\n",
    "H2f =  0.488\n",
    "H1f = 0.211\n",
    "if corr == True :\n",
    "        factor_mean = {}\n",
    "        average_coeff = {'case1' : H4f, 'case59' : H2f, 'case77' : H1f}\n",
    "        for case in correction :\n",
    "            for appli in correction[case] :\n",
    "                \n",
    "                if appli in factor_mean.keys() :\n",
    "                    \n",
    "                    factor_mean[appli].append (average_coeff[case]*correction[case][appli])\n",
    "                else :\n",
    "                   \n",
    "                    factor_mean[appli] = [average_coeff[case]*correction[case][appli]]\n",
    "        for appli in factor_mean :\n",
    "            factor_mean[appli] = sum(factor_mean[appli])\n",
    "#print(factor_mean)"
   ]
  },
  {
   "cell_type": "code",
   "execution_count": 50,
   "id": "cc58742f-944b-4640-aefc-46cdd99d56cc",
   "metadata": {},
   "outputs": [],
   "source": [
    "factor = False \n",
    "if factor == True :\n",
    "        for case in app_cons :\n",
    "            for simulation in app_cons[case] : \n",
    "                if simulation != 'factor gain':\n",
    "                    sim = app_cons[case][simulation] \n",
    "                \n",
    "                    for appli in factor_mean :\n",
    "                        sim['Annual consumption by '+appli] = sim['Annual consumption by '+appli]/factor_mean[appli]"
   ]
  },
  {
   "cell_type": "raw",
   "id": "b1ae3c48-b874-4f1f-b482-e0030ae5d9bc",
   "metadata": {},
   "source": [
    "Récupération des résultats"
   ]
  },
  {
   "cell_type": "code",
   "execution_count": 51,
   "id": "fe148383-02bc-4038-82a7-f6de9528d6be",
   "metadata": {},
   "outputs": [],
   "source": [
    "results = {}\n",
    "for case in app_cons_corr:\n",
    "    average={}\n",
    "    home = app_cons_corr[case]\n",
    "    factor_t ={}\n",
    "    for simulation in home :\n",
    "        if simulation != 'factor gain' and  simulation!= 'members':\n",
    "            for appli in home[simulation] :\n",
    "                \n",
    "                if appli in average.keys() :\n",
    "                    average[appli].append(home[simulation][appli])\n",
    "                else :\n",
    "                    average[appli] = [home[simulation][appli]]\n",
    "        elif simulation == 'factor gain' :\n",
    "            factor = home[simulation]\n",
    "            \n",
    "            \n",
    "            for si in factor :\n",
    "                for appli in factor[si] : \n",
    "                    if appli in factor_t.keys() :\n",
    "                        \n",
    "                        factor_t[appli].append(factor[si][appli]['factor'])\n",
    "                    else :\n",
    "                        factor_t[appli]=[factor[si][appli]['factor']]\n",
    "                        \n",
    "    average['factor'] = factor_t\n",
    "    results[case] = average"
   ]
  },
  {
   "cell_type": "raw",
   "id": "42073a49-77e0-4e53-936b-51016f0bca82",
   "metadata": {},
   "source": [
    "Résultat par appareil"
   ]
  },
  {
   "cell_type": "code",
   "execution_count": 52,
   "id": "f4b329cc-e839-4b9f-8099-3eeb7e5ffaaa",
   "metadata": {},
   "outputs": [],
   "source": [
    "from sanstitre0 import somme_liste_3 \n",
    "from sanstitre0 import somme_liste_4 \n",
    "\n",
    "DishWasher = []\n",
    "TumbleDryer = []\n",
    "WashingMachine = []\n",
    "StaticLoad = []\n",
    "HP = []\n",
    "DHW = []\n",
    "\n",
    "DHW_fact=[]\n",
    "HP_fact=[]\n",
    "StaticLoad_fact=[]\n",
    "\n",
    "for case in results : \n",
    "    DishWasher.append(results[case]['Annual consumption by DishWasher'])\n",
    "    TumbleDryer.append(results[case]['Annual consumption by TumbleDryer'])\n",
    "    WashingMachine.append(results[case]['Annual consumption by WashingMachine'])\n",
    "    StaticLoad.append(results[case]['Annual consumption by StaticLoad'])\n",
    "    DHW.append(results[case]['Annual consumption by DomesticHotWater'])\n",
    "    HP.append(results[case]['Annual consumption by HeatPumpPower'])\n",
    "    for key in results[case].keys() :\n",
    "        if key == 'factor' :\n",
    "            DHW_fact.append(results[case]['factor']['DomesticHotWater'])\n",
    "            HP_fact.append(results[case]['factor']['HeatPumpPower'])\n",
    "            StaticLoad_fact.append(results[case]['factor']['StaticLoad'])\n",
    "\n",
    "DHW_fact = somme_liste_3( H4f*np.array(DHW_fact[0]),  H2f*np.array(DHW_fact[1]),  H1f*np.array(DHW_fact[2]))  \n",
    "HP_fact = somme_liste_3( H4f*np.array(HP_fact[0]),  H2f*np.array(HP_fact[1]),  H1f*np.array(HP_fact[2]))\n",
    "StaticLoad_fact = somme_liste_3( H4f*np.array(StaticLoad_fact[0]),  H2f*np.array(StaticLoad_fact[1]),  H1f*np.array(StaticLoad_fact[2]))\n",
    "TotalConsumption = somme_liste_4(DishWasher,TumbleDryer,WashingMachine,StaticLoad)    "
   ]
  },
  {
   "cell_type": "raw",
   "id": "1a1350e7-8a65-4914-be2b-fbee9ec483ed",
   "metadata": {},
   "source": [
    "Moyenne par consommation"
   ]
  },
  {
   "cell_type": "code",
   "execution_count": 53,
   "id": "2467963b-7c71-4328-8825-b20bd4b9a743",
   "metadata": {},
   "outputs": [
    {
     "name": "stdout",
     "output_type": "stream",
     "text": [
      "For app_cons_members_correction the means for DishWasher, TumbleDryer, WashingMachine and all combined are :291.7890901704084,343.6421352166667,202.06558449782634,3823.8024418159052\n"
     ]
    }
   ],
   "source": [
    "DishWasher_moy = somme_liste_3( H4f*np.array(DishWasher[0]),  H2f*np.array(DishWasher[1]),  H1f*np.array(DishWasher[2]))\n",
    "DishWasher_moy = np.mean(DishWasher_moy)\n",
    "\n",
    "Tumbledryer_moy = somme_liste_3( H4f*np.array(TumbleDryer[0]),  H2f*np.array(TumbleDryer[1]),  H1f*np.array(TumbleDryer[2]))\n",
    "Tumbledryer_moy = np.mean(Tumbledryer_moy)\n",
    "\n",
    "WashingMachine_moy =  somme_liste_3( H4f*np.array(WashingMachine[0]),  H2f*np.array(WashingMachine[1]),  H1f*np.array(WashingMachine[2]))\n",
    "WashingMachine_moy = np.mean(WashingMachine_moy)\n",
    "\n",
    "TotalConsumption_moy = somme_liste_3( H4f*np.array(TotalConsumption[0]),  H2f*np.array(TotalConsumption[1]),  H1f*np.array(TotalConsumption[2]))\n",
    "TotalConsumption_moy = np.mean(TotalConsumption_moy)\n",
    "\n",
    "print('For ' + name + ' the means for DishWasher, TumbleDryer, WashingMachine and all combined are :'  +str(DishWasher_moy )+',' + str( Tumbledryer_moy )+ ',' + str( WashingMachine_moy )+ ',' +str( TotalConsumption_moy ))"
   ]
  },
  {
   "cell_type": "raw",
   "id": "ac4bc1c4-5442-4dcd-b520-a9f27df9f9f5",
   "metadata": {},
   "source": [
    "Affichage des consommations par simulation"
   ]
  },
  {
   "cell_type": "code",
   "execution_count": 57,
   "id": "6858f082-9805-4cdf-9039-d4a9a07ec3be",
   "metadata": {},
   "outputs": [
    {
     "name": "stderr",
     "output_type": "stream",
     "text": [
      "No artists with labels found to put in legend.  Note that artists whose label start with an underscore are ignored when legend() is called with no argument.\n"
     ]
    },
    {
     "data": {
      "image/png": "[encoded data removed]",
      "text/plain": [
       "<Figure size 432x288 with 3 Axes>"
      ]
     },
     "metadata": {
      "needs_background": "light"
     },
     "output_type": "display_data"
    },
    {
     "data": {
      "image/png": "[encoded data removed]",
      "text/plain": [
       "<Figure size 432x288 with 3 Axes>"
      ]
     },
     "metadata": {
      "needs_background": "light"
     },
     "output_type": "display_data"
    }
   ],
   "source": [
    "plt.figure(1)\n",
    "\n",
    "ax1 = plt.subplot(131)\n",
    "ax1.title.set_text('Dish Washer consumption ')\n",
    "ax1.set_xlabel ('Cas utilisé')\n",
    "ax1.set_ylabel ('Consommation en kWh')\n",
    "ax1.xaxis.set_ticklabels(['Case 1','Case 60', 'Case 77'])\n",
    "bp = plt.boxplot(DishWasher, meanline = True,showmeans =True)\n",
    "\n",
    "ax2 = plt.subplot(132, sharey = ax1)\n",
    "ax2.title.set_text('TumbleDryer consumption ')\n",
    "ax2.xaxis.set_ticklabels(['Case 1','Case 60', 'Case 77'])\n",
    "bp = plt.boxplot(TumbleDryer, meanline = True,showmeans =True)\n",
    "\n",
    "ax3 = plt.subplot(133, sharey=ax1)\n",
    "ax3.title.set_text('Washing Machine consumption')\n",
    "ax3.xaxis.set_ticklabels(['Case 1','Case 60', 'Case 77'])\n",
    "bp = plt.boxplot(WashingMachine, meanline = True,showmeans =True)\n",
    "\n",
    "plt.figure(2)\n",
    "ax4 = plt.subplot(131)\n",
    "ax4.title.set_text('Domestic Hot Water consumption ')\n",
    "ax4.set_xlabel ('Cas utilisé')\n",
    "ax4.set_ylabel ('Consommation en kWh')\n",
    "ax4.xaxis.set_ticklabels(['Case 1','Case 60', 'Case 77'])\n",
    "bp = plt.boxplot(DHW, meanline = True,showmeans =True)\n",
    "\n",
    "ax5 = plt.subplot(132, sharey=ax4)\n",
    "ax5.title.set_text('Heat Pump consumption ')\n",
    "ax5.xaxis.set_ticklabels(['Case 1','Case 60', 'Case 77'])\n",
    "bp = plt.boxplot(HP, meanline = True,showmeans =True)\n",
    "\n",
    "ax6 = plt.subplot(133, sharey=ax4)\n",
    "ax6.title.set_text('Total appliance consumption ')\n",
    "ax6.xaxis.set_ticklabels(['Case 1','Case 60', 'Case 77'])\n",
    "bp = plt.boxplot(TotalConsumption, meanline = True,showmeans =True)\n",
    "\n",
    "if corr == True :\n",
    "    plt.figure(3)\n",
    "    ax7 = plt.subplot(131)\n",
    "    ax7.title.set_text('Factor gain for DHW ')\n",
    "    ax7.set_xlabel ('Cas utilisé')\n",
    "    ax7.set_ylabel ('Facteur de gain')\n",
    "    ax7.xaxis.set_ticklabels(['Moyenne nationale'])\n",
    "    bp = plt.boxplot(DHW_fact, meanline = True,showmeans =True)\n",
    "\n",
    "    ax8 = plt.subplot(132, sharey = ax7)\n",
    "    ax8.title.set_text('Factor gain for HeatPump Power ')\n",
    "    ax8.xaxis.set_ticklabels(['Moyenne nationale'])\n",
    "    bp = plt.boxplot(HP_fact, meanline = True,showmeans =True)\n",
    "\n",
    "    ax9 = plt.subplot(133, sharey = ax7)\n",
    "    ax9.title.set_text('Factor gain for StaticLoad ')\n",
    "    ax9.xaxis.set_ticklabels(['Moyenne nationale'])\n",
    "    bp = plt.boxplot(HP_fact, meanline = True,showmeans =True)\n",
    "\n",
    "plt.legend()\n",
    "plt.show()"
   ]
  },
  {
   "cell_type": "code",
   "execution_count": null,
   "id": "ac894e54-dbb9-44e6-87a3-b8bba12b3632",
   "metadata": {},
   "outputs": [],
   "source": []
  }
 ],
 "metadata": {
  "kernelspec": {
   "display_name": "Python 3 (ipykernel)",
   "language": "python",
   "name": "python3"
  },
  "language_info": {
   "codemirror_mode": {
    "name": "ipython",
    "version": 3
   },
   "file_extension": ".py",
   "mimetype": "text/x-python",
   "name": "python",
   "nbconvert_exporter": "python",
   "pygments_lexer": "ipython3",
   "version": "3.8.12"
  }
 },
 "nbformat": 4,
 "nbformat_minor": 5
}
